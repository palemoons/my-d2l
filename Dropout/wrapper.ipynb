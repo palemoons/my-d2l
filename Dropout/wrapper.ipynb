{
 "cells": [
  {
   "cell_type": "code",
   "execution_count": 5,
   "metadata": {},
   "outputs": [],
   "source": [
    "from torch import nn\n",
    "from d2l import torch as d2l\n",
    "\n",
    "\n",
    "class DropoutMLP(d2l.Classifier):\n",
    "    def __init__(\n",
    "        self, num_outputs, num_hiddens_1, num_hiddens_2, dropout_1, dropout_2, lr\n",
    "    ):\n",
    "        super().save_hyperparameters()\n",
    "        self.save_hyperparameters()\n",
    "        self.net = nn.Sequential(\n",
    "            nn.Flatten(),\n",
    "            nn.LazyLinear(num_hiddens_1),\n",
    "            nn.ReLU(),\n",
    "            nn.Dropout(dropout_1),\n",
    "            nn.LazyLinear(num_hiddens_2),\n",
    "            nn.ReLU(),\n",
    "            nn.Dropout(dropout_2),\n",
    "            nn.LazyLinear(num_outputs),\n",
    "        )"
   ]
  },
  {
   "cell_type": "code",
   "execution_count": 6,
   "metadata": {},
   "outputs": [
    {
     "ename": "AttributeError",
     "evalue": "module 'torch.nn' has no attribute 'RELU'",
     "output_type": "error",
     "traceback": [
      "\u001b[0;31m---------------------------------------------------------------------------\u001b[0m",
      "\u001b[0;31mAttributeError\u001b[0m                            Traceback (most recent call last)",
      "Cell \u001b[0;32mIn[6], line 9\u001b[0m\n\u001b[1;32m      1\u001b[0m hparams \u001b[39m=\u001b[39m {\n\u001b[1;32m      2\u001b[0m     \u001b[39m\"\u001b[39m\u001b[39mnum_outputs\u001b[39m\u001b[39m\"\u001b[39m: \u001b[39m10\u001b[39m,\n\u001b[1;32m      3\u001b[0m     \u001b[39m\"\u001b[39m\u001b[39mnum_hiddens_1\u001b[39m\u001b[39m\"\u001b[39m: \u001b[39m256\u001b[39m,\n\u001b[0;32m   (...)\u001b[0m\n\u001b[1;32m      7\u001b[0m     \u001b[39m\"\u001b[39m\u001b[39mlr\u001b[39m\u001b[39m\"\u001b[39m: \u001b[39m0.1\u001b[39m,\n\u001b[1;32m      8\u001b[0m }\n\u001b[0;32m----> 9\u001b[0m model \u001b[39m=\u001b[39m DropoutMLP(\u001b[39m*\u001b[39;49m\u001b[39m*\u001b[39;49mhparams)\n\u001b[1;32m     10\u001b[0m data \u001b[39m=\u001b[39m d2l\u001b[39m.\u001b[39mFashionMNIST(batch_size\u001b[39m=\u001b[39m\u001b[39m256\u001b[39m)\n\u001b[1;32m     11\u001b[0m trainer \u001b[39m=\u001b[39m d2l\u001b[39m.\u001b[39mTrainer(max_epochs\u001b[39m=\u001b[39m\u001b[39m10\u001b[39m)\n",
      "Cell \u001b[0;32mIn[5], line 14\u001b[0m, in \u001b[0;36mDropoutMLP.__init__\u001b[0;34m(self, num_outputs, num_hiddens_1, num_hiddens_2, dropout_1, dropout_2, lr)\u001b[0m\n\u001b[1;32m      9\u001b[0m \u001b[39msuper\u001b[39m()\u001b[39m.\u001b[39msave_hyperparameters()\n\u001b[1;32m     10\u001b[0m \u001b[39mself\u001b[39m\u001b[39m.\u001b[39msave_hyperparameters()\n\u001b[1;32m     11\u001b[0m \u001b[39mself\u001b[39m\u001b[39m.\u001b[39mnet \u001b[39m=\u001b[39m nn\u001b[39m.\u001b[39mSequential(\n\u001b[1;32m     12\u001b[0m     nn\u001b[39m.\u001b[39mFlatten(),\n\u001b[1;32m     13\u001b[0m     nn\u001b[39m.\u001b[39mLazyLinear(num_hiddens_1),\n\u001b[0;32m---> 14\u001b[0m     nn\u001b[39m.\u001b[39;49mRELU(),\n\u001b[1;32m     15\u001b[0m     nn\u001b[39m.\u001b[39mDropout(dropout_1),\n\u001b[1;32m     16\u001b[0m     nn\u001b[39m.\u001b[39mLazyLinear(num_hiddens_2),\n\u001b[1;32m     17\u001b[0m     nn\u001b[39m.\u001b[39mRELU(),\n\u001b[1;32m     18\u001b[0m     nn\u001b[39m.\u001b[39mDropout(dropout_2),\n\u001b[1;32m     19\u001b[0m     nn\u001b[39m.\u001b[39mLazyLinear(num_outputs),\n\u001b[1;32m     20\u001b[0m )\n",
      "\u001b[0;31mAttributeError\u001b[0m: module 'torch.nn' has no attribute 'RELU'"
     ]
    }
   ],
   "source": [
    "hparams = {\n",
    "    \"num_outputs\": 10,\n",
    "    \"num_hiddens_1\": 256,\n",
    "    \"num_hiddens_2\": 256,\n",
    "    \"dropout_1\": 0.5,\n",
    "    \"dropout_2\": 0.5,\n",
    "    \"lr\": 0.1,\n",
    "}\n",
    "model = DropoutMLP(**hparams)\n",
    "data = d2l.FashionMNIST(batch_size=256)\n",
    "trainer = d2l.Trainer(max_epochs=10)\n",
    "trainer.fit(model, data)"
   ]
  },
  {
   "cell_type": "code",
   "execution_count": null,
   "metadata": {},
   "outputs": [],
   "source": []
  }
 ],
 "metadata": {
  "kernelspec": {
   "display_name": "d2l",
   "language": "python",
   "name": "python3"
  },
  "language_info": {
   "codemirror_mode": {
    "name": "ipython",
    "version": 3
   },
   "file_extension": ".py",
   "mimetype": "text/x-python",
   "name": "python",
   "nbconvert_exporter": "python",
   "pygments_lexer": "ipython3",
   "version": "3.9.16"
  },
  "orig_nbformat": 4
 },
 "nbformat": 4,
 "nbformat_minor": 2
}
